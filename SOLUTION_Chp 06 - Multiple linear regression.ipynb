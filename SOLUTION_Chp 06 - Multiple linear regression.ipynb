{
 "cells": [
  {
   "cell_type": "markdown",
   "metadata": {},
   "source": [
    "# Chapter 6: Multiple Linear Regression\n",
    "\n",
    "> (c) 2019 Galit Shmueli, Peter C. Bruce, Peter Gedeck \n",
    ">\n",
    "> Code included in\n",
    ">\n",
    "> _Data Mining for Business Analytics: Concepts, Techniques, and Applications in Python_ (First Edition) \n",
    "> Galit Shmueli, Peter C. Bruce, Peter Gedeck, and Nitin R. Patel. 2019.\n",
    "\n",
    "## Import required packages"
   ]
  },
  {
   "cell_type": "code",
   "execution_count": 87,
   "metadata": {
    "execution": {
     "iopub.execute_input": "2023-04-26T18:39:56.125805Z",
     "iopub.status.busy": "2023-04-26T18:39:56.125491Z",
     "iopub.status.idle": "2023-04-26T18:39:57.160319Z",
     "shell.execute_reply": "2023-04-26T18:39:57.158673Z"
    }
   },
   "outputs": [],
   "source": [
    "from pathlib import Path\n",
    "\n",
    "import pandas as pd\n",
    "from sklearn.model_selection import train_test_split\n",
    "from sklearn.linear_model import LinearRegression, Lasso, Ridge, LassoCV, BayesianRidge\n",
    "import statsmodels.formula.api as sm\n",
    "import matplotlib.pylab as plt\n",
    "\n",
    "import dmba\n",
    "from dmba import regressionSummary, exhaustive_search\n",
    "from dmba import backward_elimination, forward_selection, stepwise_selection\n",
    "from dmba import adjusted_r2_score, AIC_score, BIC_score\n",
    "\n",
    "%matplotlib inline\n"
   ]
  },
  {
   "cell_type": "markdown",
   "metadata": {},
   "source": [
    "## Table 6.3"
   ]
  },
  {
   "cell_type": "code",
   "execution_count": 88,
   "metadata": {
    "execution": {
     "iopub.execute_input": "2023-04-26T18:39:57.163842Z",
     "iopub.status.busy": "2023-04-26T18:39:57.163437Z",
     "iopub.status.idle": "2023-04-26T18:39:57.191468Z",
     "shell.execute_reply": "2023-04-26T18:39:57.190527Z"
    },
    "scrolled": false
   },
   "outputs": [
    {
     "name": "stdout",
     "output_type": "stream",
     "text": [
      "intercept  -7869.889225669645\n",
      "           Predictor  coefficient\n",
      "0          Age_08_04  -119.714145\n",
      "1                 KM    -0.016237\n",
      "2                 HP    45.042511\n",
      "3          Met_Color   105.322356\n",
      "4          Automatic   188.336347\n",
      "5                 CC    -2.920132\n",
      "6              Doors   -53.541689\n",
      "7      Quarterly_Tax    14.801914\n",
      "8             Weight    20.523371\n",
      "9   Fuel_Type_Diesel  2820.336747\n",
      "10  Fuel_Type_Petrol  3327.711813\n",
      "\n",
      "Regression statistics\n",
      "\n",
      "                      Mean Error (ME) : 0.0000\n",
      "       Root Mean Squared Error (RMSE) : 1245.8590\n",
      "            Mean Absolute Error (MAE) : 927.4987\n",
      "          Mean Percentage Error (MPE) : -1.0258\n",
      "Mean Absolute Percentage Error (MAPE) : 9.1158\n"
     ]
    }
   ],
   "source": [
    "# Reduce data frame to the top 1000 rows and select columns for regression analysis\n",
    "\n",
    "# Look at all rows\n",
    "car_df = dmba.load_data('ToyotaCorolla.csv')\n",
    "# car_df = car_df.iloc[0:1000]\n",
    "\n",
    "len(car_df)\n",
    "\n",
    "predictors = ['Age_08_04', 'KM', 'Fuel_Type', 'HP', 'Met_Color', 'Automatic', 'CC', \n",
    "              'Doors', 'Quarterly_Tax', 'Weight']\n",
    "outcome = 'Price'\n",
    "\n",
    "# # partition data\n",
    "# X = pd.get_dummies(car_df[predictors], drop_first=True)\n",
    "# y = car_df[outcome]\n",
    "# train_X, valid_X, train_y, valid_y = train_test_split(X, y, test_size=0.5, random_state=1)\n",
    "\n",
    "# Goal is 50% training, 30% validation, and 20% testing\n",
    "\n",
    "# Split data into training+validation (80%) and test (20%) \n",
    "X_train_val, X_test, y_train_val, y_test = train_test_split(X, y, test_size=0.2, random_state=1)\n",
    "\n",
    "# Further split training+validation into training (50%) and validation (30%)\n",
    "train_X, X_val, train_y, y_val = train_test_split(X_train_val, y_train_val, test_size=0.375, random_state=1)\n",
    "\n",
    "\n",
    "car_lm = LinearRegression()\n",
    "car_lm.fit(train_X, train_y)\n",
    "\n",
    "# print coefficients\n",
    "print('intercept ', car_lm.intercept_)\n",
    "print(pd.DataFrame({'Predictor': X.columns, 'coefficient': car_lm.coef_}))\n",
    "\n",
    "# print performance measures\n",
    "regressionSummary(train_y, car_lm.predict(train_X))"
   ]
  },
  {
   "cell_type": "code",
   "execution_count": 89,
   "metadata": {
    "execution": {
     "iopub.execute_input": "2023-04-26T18:39:57.194897Z",
     "iopub.status.busy": "2023-04-26T18:39:57.194008Z",
     "iopub.status.idle": "2023-04-26T18:39:57.201884Z",
     "shell.execute_reply": "2023-04-26T18:39:57.200982Z"
    }
   },
   "outputs": [
    {
     "name": "stdout",
     "output_type": "stream",
     "text": [
      "adjusted r2 :  0.8702792238492556\n",
      "AIC :  12281.708294243572\n",
      "BIC :  12341.184280171366\n"
     ]
    }
   ],
   "source": [
    "pred_y = car_lm.predict(train_X)\n",
    "\n",
    "print('adjusted r2 : ', adjusted_r2_score(train_y, pred_y, car_lm))\n",
    "print('AIC : ', AIC_score(train_y, pred_y, car_lm))\n",
    "print('BIC : ', BIC_score(train_y, pred_y, car_lm))"
   ]
  },
  {
   "cell_type": "markdown",
   "metadata": {},
   "source": [
    "## Table 6.4"
   ]
  },
  {
   "cell_type": "code",
   "execution_count": 90,
   "metadata": {
    "execution": {
     "iopub.execute_input": "2023-04-26T18:39:57.204779Z",
     "iopub.status.busy": "2023-04-26T18:39:57.204231Z",
     "iopub.status.idle": "2023-04-26T18:39:57.214193Z",
     "shell.execute_reply": "2023-04-26T18:39:57.213343Z"
    }
   },
   "outputs": [
    {
     "name": "stdout",
     "output_type": "stream",
     "text": [
      "         Predicted  Actual     Residual\n",
      "509   12210.523967   10900 -1310.523967\n",
      "435   11152.788647   10895  -257.788647\n",
      "321   14000.072852   10750 -3250.072852\n",
      "1055   6531.332274    6500   -31.332274\n",
      "288   12603.913351   11895  -708.913351\n",
      "48    18415.822754   17950  -465.822754\n",
      "1403   7616.493257    7000  -616.493257\n",
      "952    9859.374734    8400 -1459.374734\n",
      "1097   7230.882249    7250    19.117751\n",
      "204   11874.205697   12950  1075.794303\n",
      "978    9627.384272    8745  -882.384272\n",
      "404    9814.371934    9450  -364.371934\n",
      "1338   7647.663857    7499  -148.663857\n",
      "754    9148.850298    9950   801.149702\n",
      "1189   6831.289915    8500  1668.710085\n",
      "948    8226.103050    7750  -476.103050\n",
      "1079   6132.201801    8950  2817.798199\n",
      "1108   7463.991192    8250   786.008808\n",
      "107   17319.817873   17450   130.182127\n",
      "1065   5914.638022    6550   635.361978\n",
      "\n",
      "Regression statistics\n",
      "\n",
      "                      Mean Error (ME) : 137.0538\n",
      "       Root Mean Squared Error (RMSE) : 2164.8330\n",
      "            Mean Absolute Error (MAE) : 1019.3439\n",
      "          Mean Percentage Error (MPE) : -0.0058\n",
      "Mean Absolute Percentage Error (MAPE) : 9.8872\n"
     ]
    }
   ],
   "source": [
    "# Use predict() to make predictions on a new set\n",
    "car_lm_pred = car_lm.predict(valid_X)\n",
    "\n",
    "result = pd.DataFrame({'Predicted': car_lm_pred, 'Actual': valid_y,\n",
    "                       'Residual': valid_y - car_lm_pred})\n",
    "print(result.head(20))\n",
    "\n",
    "# Compute common accuracy measures\n",
    "regressionSummary(valid_y, car_lm_pred)"
   ]
  },
  {
   "cell_type": "markdown",
   "metadata": {},
   "source": [
    "## Figure 6.1\n",
    "Determine the residuals and create a histogram"
   ]
  },
  {
   "cell_type": "code",
   "execution_count": 91,
   "metadata": {
    "execution": {
     "iopub.execute_input": "2023-04-26T18:39:57.216979Z",
     "iopub.status.busy": "2023-04-26T18:39:57.216641Z",
     "iopub.status.idle": "2023-04-26T18:39:57.543314Z",
     "shell.execute_reply": "2023-04-26T18:39:57.542469Z"
    }
   },
   "outputs": [
    {
     "name": "stdout",
     "output_type": "stream",
     "text": [
      "0.7547826086956522\n"
     ]
    },
    {
     "data": {
      "image/png": "[encoded data removed]",
      "text/plain": [
       "<Figure size 640x480 with 1 Axes>"
      ]
     },
     "metadata": {},
     "output_type": "display_data"
    }
   ],
   "source": [
    "car_lm_pred = car_lm.predict(valid_X)\n",
    "all_residuals = valid_y - car_lm_pred\n",
    "\n",
    "# Determine the percentage of datapoints with a residual in [-1406, 1406] = approx. 75\\%\n",
    "print(len(all_residuals[(all_residuals > -1406) & (all_residuals < 1406)]) / len(all_residuals))\n",
    "\n",
    "ax = pd.DataFrame({'Residuals': all_residuals}).hist(bins=25)\n",
    "\n",
    "plt.tight_layout()\n",
    "plt.show()"
   ]
  },
  {
   "cell_type": "markdown",
   "metadata": {},
   "source": [
    "## Table 6.5\n",
    "Run an exhaustive search. The Fuel type column is categorical and needs to be converted into dummy variables."
   ]
  },
  {
   "cell_type": "code",
   "execution_count": 92,
   "metadata": {
    "execution": {
     "iopub.execute_input": "2023-04-26T18:39:57.546162Z",
     "iopub.status.busy": "2023-04-26T18:39:57.545576Z",
     "iopub.status.idle": "2023-04-26T18:40:04.126358Z",
     "shell.execute_reply": "2023-04-26T18:40:04.125232Z"
    }
   },
   "outputs": [
    {
     "name": "stdout",
     "output_type": "stream",
     "text": [
      "     n     r2adj           AIC  Age_08_04  Automatic     CC  Doors  Fuel_Type_Diesel  \\\n",
      "0    1  0.764703  12698.754601       True      False  False  False             False   \n",
      "1    2  0.803085  12572.071911       True      False  False  False             False   \n",
      "2    3  0.840226  12423.202708       True      False  False  False             False   \n",
      "3    4  0.856161  12348.866723       True      False  False  False             False   \n",
      "4    5  0.864772  12305.594724       True      False  False  False             False   \n",
      "5    6  0.867273  12293.200180       True      False  False  False             False   \n",
      "6    7  0.867752  12291.599884       True      False  False   True             False   \n",
      "7    8  0.870299  12278.641061       True      False   True  False              True   \n",
      "8    9  0.870315  12279.539135       True       True   True  False              True   \n",
      "9   10  0.870307  12280.572340       True      False   True   True              True   \n",
      "10  11  0.870279  12281.708294       True       True   True   True              True   \n",
      "\n",
      "    Fuel_Type_Petrol     HP     KM  Met_Color  Quarterly_Tax  Weight  \n",
      "0              False  False  False      False          False   False  \n",
      "1              False   True  False      False          False   False  \n",
      "2               True  False  False      False          False    True  \n",
      "3               True  False   True      False          False    True  \n",
      "4               True  False   True      False           True    True  \n",
      "5               True   True   True      False           True    True  \n",
      "6               True   True   True      False           True    True  \n",
      "7               True   True   True      False           True    True  \n",
      "8               True   True   True      False           True    True  \n",
      "9               True   True   True       True           True    True  \n",
      "10              True   True   True       True           True    True  \n"
     ]
    }
   ],
   "source": [
    "def train_model(variables):\n",
    "    model = LinearRegression()\n",
    "    model.fit(train_X[variables], train_y)\n",
    "    return model\n",
    "\n",
    "def score_model(model, variables):\n",
    "    pred_y = model.predict(train_X[variables])\n",
    "    # we negate as score is optimized to be as low as possible\n",
    "    return -adjusted_r2_score(train_y, pred_y, model)\n",
    "\n",
    "allVariables = train_X.columns\n",
    "results = exhaustive_search(allVariables, train_model, score_model)\n",
    "\n",
    "data = []\n",
    "for result in results:\n",
    "    model = result['model']\n",
    "    variables = result['variables']\n",
    "    AIC = AIC_score(train_y, model.predict(train_X[variables]), model)\n",
    "    \n",
    "    d = {'n': result['n'], 'r2adj': -result['score'], 'AIC': AIC}\n",
    "    d.update({var: var in result['variables'] for var in allVariables})\n",
    "    data.append(d)\n",
    "pd.set_option('display.width', 100)\n",
    "print(pd.DataFrame(data, columns=('n', 'r2adj', 'AIC') + tuple(sorted(allVariables))))\n",
    "pd.reset_option('display.width')"
   ]
  },
  {
   "cell_type": "markdown",
   "metadata": {},
   "source": [
    "## Table 6.6 backward elimination"
   ]
  },
  {
   "cell_type": "code",
   "execution_count": 93,
   "metadata": {
    "execution": {
     "iopub.execute_input": "2023-04-26T18:40:04.130419Z",
     "iopub.status.busy": "2023-04-26T18:40:04.129329Z",
     "iopub.status.idle": "2023-04-26T18:40:04.280954Z",
     "shell.execute_reply": "2023-04-26T18:40:04.279929Z"
    }
   },
   "outputs": [
    {
     "name": "stdout",
     "output_type": "stream",
     "text": [
      "Variables: Age_08_04, KM, HP, Met_Color, Automatic, CC, Doors, Quarterly_Tax, Weight, Fuel_Type_Diesel, Fuel_Type_Petrol\n",
      "Start: score=12281.71\n",
      "Step: score=12280.57, remove Automatic\n",
      "Step: score=12279.66, remove Met_Color\n",
      "Step: score=12278.64, remove Doors\n",
      "Step: score=12278.64, remove None\n",
      "['Age_08_04', 'KM', 'HP', 'CC', 'Quarterly_Tax', 'Weight', 'Fuel_Type_Diesel', 'Fuel_Type_Petrol']\n"
     ]
    }
   ],
   "source": [
    "def train_model(variables):\n",
    "    model = LinearRegression()\n",
    "    model.fit(train_X[variables], train_y)\n",
    "    return model\n",
    "\n",
    "def score_model(model, variables):\n",
    "    return AIC_score(train_y, model.predict(train_X[variables]), model)\n",
    "\n",
    "best_model, best_variables = backward_elimination(train_X.columns, train_model, score_model, verbose=True)\n",
    "\n",
    "print(best_variables)"
   ]
  },
  {
   "cell_type": "code",
   "execution_count": 94,
   "metadata": {
    "execution": {
     "iopub.execute_input": "2023-04-26T18:40:04.283669Z",
     "iopub.status.busy": "2023-04-26T18:40:04.283272Z",
     "iopub.status.idle": "2023-04-26T18:40:04.289960Z",
     "shell.execute_reply": "2023-04-26T18:40:04.289266Z"
    }
   },
   "outputs": [
    {
     "name": "stdout",
     "output_type": "stream",
     "text": [
      "\n",
      "Regression statistics\n",
      "\n",
      "                      Mean Error (ME) : 134.8332\n",
      "       Root Mean Squared Error (RMSE) : 2216.6591\n",
      "            Mean Absolute Error (MAE) : 1024.2540\n",
      "          Mean Percentage Error (MPE) : -0.0543\n",
      "Mean Absolute Percentage Error (MAPE) : 9.9140\n"
     ]
    }
   ],
   "source": [
    "regressionSummary(valid_y, best_model.predict(valid_X[best_variables]))"
   ]
  },
  {
   "cell_type": "markdown",
   "metadata": {},
   "source": [
    "## Table 6.7 Forward selection"
   ]
  },
  {
   "cell_type": "code",
   "execution_count": 95,
   "metadata": {
    "execution": {
     "iopub.execute_input": "2023-04-26T18:40:04.292673Z",
     "iopub.status.busy": "2023-04-26T18:40:04.291985Z",
     "iopub.status.idle": "2023-04-26T18:40:04.465700Z",
     "shell.execute_reply": "2023-04-26T18:40:04.464705Z"
    }
   },
   "outputs": [
    {
     "name": "stdout",
     "output_type": "stream",
     "text": [
      "Variables: Age_08_04, KM, HP, Met_Color, Automatic, CC, Doors, Quarterly_Tax, Weight, Fuel_Type_Diesel, Fuel_Type_Petrol\n",
      "Start: score=13735.19, constant\n",
      "Step: score=12698.75, add Age_08_04\n",
      "Step: score=12572.07, add HP\n",
      "Step: score=12479.82, add Weight\n",
      "Step: score=12349.53, add KM\n",
      "Step: score=12330.03, add Fuel_Type_Petrol\n",
      "Step: score=12293.20, add Quarterly_Tax\n",
      "Step: score=12291.60, add Doors\n",
      "Step: score=12291.26, add CC\n",
      "Step: score=12279.66, add Fuel_Type_Diesel\n",
      "Step: score=12279.66, add None\n",
      "['Age_08_04', 'HP', 'Weight', 'KM', 'Fuel_Type_Petrol', 'Quarterly_Tax', 'Doors', 'CC', 'Fuel_Type_Diesel']\n"
     ]
    }
   ],
   "source": [
    "# The initial model is the constant model - this requires special handling\n",
    "# in train_model and score_model\n",
    "def train_model(variables):\n",
    "    if len(variables) == 0:\n",
    "        return None\n",
    "    model = LinearRegression()\n",
    "    model.fit(train_X[variables], train_y)\n",
    "    return model\n",
    "\n",
    "def score_model(model, variables):\n",
    "    if len(variables) == 0:\n",
    "        return AIC_score(train_y, [train_y.mean()] * len(train_y), model, df=1)\n",
    "    return AIC_score(train_y, model.predict(train_X[variables]), model)\n",
    "\n",
    "best_model, best_variables = forward_selection(train_X.columns, train_model, score_model, verbose=True)\n",
    "\n",
    "print(best_variables)"
   ]
  },
  {
   "cell_type": "code",
   "execution_count": 96,
   "metadata": {
    "execution": {
     "iopub.execute_input": "2023-04-26T18:40:04.468505Z",
     "iopub.status.busy": "2023-04-26T18:40:04.468086Z",
     "iopub.status.idle": "2023-04-26T18:40:04.743901Z",
     "shell.execute_reply": "2023-04-26T18:40:04.742924Z"
    }
   },
   "outputs": [
    {
     "name": "stdout",
     "output_type": "stream",
     "text": [
      "Variables: Age_08_04, KM, HP, Met_Color, Automatic, CC, Doors, Quarterly_Tax, Weight, Fuel_Type_Diesel, Fuel_Type_Petrol\n",
      "Start: score=13735.19, constant\n",
      "Step: score=12698.75, add Age_08_04\n",
      "Step: score=12572.07, add HP\n",
      "Step: score=12479.82, add Weight\n",
      "Step: score=12349.53, add KM\n",
      "Step: score=12330.03, add Fuel_Type_Petrol\n",
      "Step: score=12293.20, add Quarterly_Tax\n",
      "Step: score=12291.60, add Doors\n",
      "Step: score=12291.26, add CC\n",
      "Step: score=12279.66, add Fuel_Type_Diesel\n",
      "Step: score=12278.64, remove Doors\n",
      "Step: score=12278.64, unchanged None\n",
      "['Age_08_04', 'HP', 'Weight', 'KM', 'Fuel_Type_Petrol', 'Quarterly_Tax', 'CC', 'Fuel_Type_Diesel']\n"
     ]
    }
   ],
   "source": [
    "best_model, best_variables = stepwise_selection(train_X.columns, train_model, score_model, verbose=True)\n",
    "\n",
    "print(best_variables)"
   ]
  },
  {
   "cell_type": "markdown",
   "metadata": {},
   "source": [
    "## Table XX regularized methods"
   ]
  },
  {
   "cell_type": "code",
   "execution_count": 97,
   "metadata": {
    "execution": {
     "iopub.execute_input": "2023-04-26T18:40:04.747221Z",
     "iopub.status.busy": "2023-04-26T18:40:04.746235Z",
     "iopub.status.idle": "2023-04-26T18:40:04.805891Z",
     "shell.execute_reply": "2023-04-26T18:40:04.804873Z"
    }
   },
   "outputs": [
    {
     "name": "stdout",
     "output_type": "stream",
     "text": [
      "\n",
      "Regression statistics\n",
      "\n",
      "                      Mean Error (ME) : 133.7239\n",
      "       Root Mean Squared Error (RMSE) : 2103.1028\n",
      "            Mean Absolute Error (MAE) : 1015.8762\n",
      "          Mean Percentage Error (MPE) : -0.0307\n",
      "Mean Absolute Percentage Error (MAPE) : 9.8659\n",
      "\n",
      "Regression statistics\n",
      "\n",
      "                      Mean Error (ME) : 126.5551\n",
      "       Root Mean Squared Error (RMSE) : 1973.1077\n",
      "            Mean Absolute Error (MAE) : 1009.2096\n",
      "          Mean Percentage Error (MPE) : -0.0837\n",
      "Mean Absolute Percentage Error (MAPE) : 9.8313\n",
      "Lasso-CV chosen regularization:  3.0490587368991493\n",
      "[-2175.34543726  -607.48378823   608.95747698    44.73342846\n",
      "    39.38326269  -473.46824471   -51.95274814   559.32968783\n",
      "   991.0046799    707.74262378   985.66514738]\n",
      "\n",
      "Regression statistics\n",
      "\n",
      "                      Mean Error (ME) : 134.0573\n",
      "       Root Mean Squared Error (RMSE) : 2107.6737\n",
      "            Mean Absolute Error (MAE) : 1015.9482\n",
      "          Mean Percentage Error (MPE) : -0.0322\n",
      "Mean Absolute Percentage Error (MAPE) : 9.8653\n",
      "\n",
      "Regression statistics\n",
      "\n",
      "                      Mean Error (ME) : 131.3712\n",
      "       Root Mean Squared Error (RMSE) : 2057.3868\n",
      "            Mean Absolute Error (MAE) : 1013.2241\n",
      "          Mean Percentage Error (MPE) : -0.0566\n",
      "Mean Absolute Percentage Error (MAPE) : 9.8500\n",
      "Bayesian ridge chosen regularization:  1.9842319433685158\n"
     ]
    }
   ],
   "source": [
    "from sklearn.pipeline import Pipeline\n",
    "from sklearn.preprocessing import StandardScaler\n",
    "\n",
    "lasso = Pipeline([\n",
    "    ['normalize', StandardScaler()],\n",
    "    ['model', Lasso(alpha=1)],\n",
    "])\n",
    "lasso.fit(train_X, train_y)\n",
    "regressionSummary(valid_y, lasso.predict(valid_X))\n",
    "\n",
    "lasso_cv = Pipeline([\n",
    "    ['normalize', StandardScaler()],\n",
    "    ['model', LassoCV(cv=5)],\n",
    "])\n",
    "lasso_cv.fit(train_X, train_y)\n",
    "regressionSummary(valid_y, lasso_cv.predict(valid_X))\n",
    "print('Lasso-CV chosen regularization: ', lasso_cv['model'].alpha_)\n",
    "print(lasso_cv['model'].coef_)\n",
    "\n",
    "ridge = Pipeline([\n",
    "    ['normalize', StandardScaler()],\n",
    "    ['model', Ridge(alpha=1)],\n",
    "])\n",
    "ridge.fit(train_X, train_y)\n",
    "regressionSummary(valid_y, ridge.predict(valid_X))\n",
    "\n",
    "bayesianRidge = Pipeline([\n",
    "    ['normalize', StandardScaler()],\n",
    "    ['model', BayesianRidge()],\n",
    "])\n",
    "bayesianRidge.fit(train_X, train_y)\n",
    "regressionSummary(valid_y, bayesianRidge.predict(valid_X))\n",
    "print('Bayesian ridge chosen regularization: ', \n",
    "      bayesianRidge['model'].lambda_ / bayesianRidge['model'].alpha_)"
   ]
  },
  {
   "cell_type": "code",
   "execution_count": 98,
   "metadata": {
    "execution": {
     "iopub.execute_input": "2023-04-26T18:40:04.808384Z",
     "iopub.status.busy": "2023-04-26T18:40:04.808046Z",
     "iopub.status.idle": "2023-04-26T18:40:04.819274Z",
     "shell.execute_reply": "2023-04-26T18:40:04.818309Z"
    }
   },
   "outputs": [
    {
     "name": "stdout",
     "output_type": "stream",
     "text": [
      "\n",
      "Regression statistics\n",
      "\n",
      "                      Mean Error (ME) : 137.0538\n",
      "       Root Mean Squared Error (RMSE) : 2164.8330\n",
      "            Mean Absolute Error (MAE) : 1019.3439\n",
      "          Mean Percentage Error (MPE) : -0.0058\n",
      "Mean Absolute Percentage Error (MAPE) : 9.8872\n"
     ]
    }
   ],
   "source": [
    "linearRegression = Pipeline([\n",
    "    ['normalize', StandardScaler()],\n",
    "    ['model', LinearRegression()],\n",
    "])\n",
    "linearRegression.fit(train_X, train_y)\n",
    "regressionSummary(valid_y, linearRegression.predict(valid_X))"
   ]
  },
  {
   "cell_type": "code",
   "execution_count": 99,
   "metadata": {
    "execution": {
     "iopub.execute_input": "2023-04-26T18:40:04.821767Z",
     "iopub.status.busy": "2023-04-26T18:40:04.821158Z",
     "iopub.status.idle": "2023-04-26T18:40:04.831102Z",
     "shell.execute_reply": "2023-04-26T18:40:04.830322Z"
    }
   },
   "outputs": [
    {
     "data": {
      "text/html": [
       "<div>\n",
       "<style scoped>\n",
       "    .dataframe tbody tr th:only-of-type {\n",
       "        vertical-align: middle;\n",
       "    }\n",
       "\n",
       "    .dataframe tbody tr th {\n",
       "        vertical-align: top;\n",
       "    }\n",
       "\n",
       "    .dataframe thead th {\n",
       "        text-align: right;\n",
       "    }\n",
       "</style>\n",
       "<table border=\"1\" class=\"dataframe\">\n",
       "  <thead>\n",
       "    <tr style=\"text-align: right;\">\n",
       "      <th></th>\n",
       "      <th>features</th>\n",
       "      <th>linear regression</th>\n",
       "      <th>lassoCV</th>\n",
       "      <th>bayesianRidge</th>\n",
       "    </tr>\n",
       "  </thead>\n",
       "  <tbody>\n",
       "    <tr>\n",
       "      <th>0</th>\n",
       "      <td>Age_08_04</td>\n",
       "      <td>-2172.700156</td>\n",
       "      <td>-2175.345437</td>\n",
       "      <td>-2166.839479</td>\n",
       "    </tr>\n",
       "    <tr>\n",
       "      <th>1</th>\n",
       "      <td>KM</td>\n",
       "      <td>-606.988690</td>\n",
       "      <td>-607.483788</td>\n",
       "      <td>-612.217691</td>\n",
       "    </tr>\n",
       "    <tr>\n",
       "      <th>2</th>\n",
       "      <td>HP</td>\n",
       "      <td>667.859073</td>\n",
       "      <td>608.957477</td>\n",
       "      <td>635.578106</td>\n",
       "    </tr>\n",
       "    <tr>\n",
       "      <th>3</th>\n",
       "      <td>Met_Color</td>\n",
       "      <td>49.597255</td>\n",
       "      <td>44.733428</td>\n",
       "      <td>48.749688</td>\n",
       "    </tr>\n",
       "    <tr>\n",
       "      <th>4</th>\n",
       "      <td>Automatic</td>\n",
       "      <td>45.201085</td>\n",
       "      <td>39.383263</td>\n",
       "      <td>42.654153</td>\n",
       "    </tr>\n",
       "    <tr>\n",
       "      <th>5</th>\n",
       "      <td>CC</td>\n",
       "      <td>-547.371728</td>\n",
       "      <td>-473.468245</td>\n",
       "      <td>-506.538657</td>\n",
       "    </tr>\n",
       "    <tr>\n",
       "      <th>6</th>\n",
       "      <td>Doors</td>\n",
       "      <td>-51.017456</td>\n",
       "      <td>-51.952748</td>\n",
       "      <td>-52.843116</td>\n",
       "    </tr>\n",
       "    <tr>\n",
       "      <th>7</th>\n",
       "      <td>Quarterly_Tax</td>\n",
       "      <td>575.439930</td>\n",
       "      <td>559.329688</td>\n",
       "      <td>564.860603</td>\n",
       "    </tr>\n",
       "    <tr>\n",
       "      <th>8</th>\n",
       "      <td>Weight</td>\n",
       "      <td>985.431058</td>\n",
       "      <td>991.004680</td>\n",
       "      <td>990.153192</td>\n",
       "    </tr>\n",
       "    <tr>\n",
       "      <th>9</th>\n",
       "      <td>Fuel_Type_Diesel</td>\n",
       "      <td>847.672152</td>\n",
       "      <td>707.742624</td>\n",
       "      <td>757.437172</td>\n",
       "    </tr>\n",
       "    <tr>\n",
       "      <th>10</th>\n",
       "      <td>Fuel_Type_Petrol</td>\n",
       "      <td>1047.710418</td>\n",
       "      <td>985.665147</td>\n",
       "      <td>996.565449</td>\n",
       "    </tr>\n",
       "  </tbody>\n",
       "</table>\n",
       "</div>"
      ],
      "text/plain": [
       "            features  linear regression      lassoCV  bayesianRidge\n",
       "0          Age_08_04       -2172.700156 -2175.345437   -2166.839479\n",
       "1                 KM        -606.988690  -607.483788    -612.217691\n",
       "2                 HP         667.859073   608.957477     635.578106\n",
       "3          Met_Color          49.597255    44.733428      48.749688\n",
       "4          Automatic          45.201085    39.383263      42.654153\n",
       "5                 CC        -547.371728  -473.468245    -506.538657\n",
       "6              Doors         -51.017456   -51.952748     -52.843116\n",
       "7      Quarterly_Tax         575.439930   559.329688     564.860603\n",
       "8             Weight         985.431058   991.004680     990.153192\n",
       "9   Fuel_Type_Diesel         847.672152   707.742624     757.437172\n",
       "10  Fuel_Type_Petrol        1047.710418   985.665147     996.565449"
      ]
     },
     "execution_count": 99,
     "metadata": {},
     "output_type": "execute_result"
    }
   ],
   "source": [
    "pd.DataFrame({\n",
    "    'features': train_X.columns, \n",
    "    'linear regression': linearRegression['model'].coef_, \n",
    "    'lassoCV': lasso_cv['model'].coef_, \n",
    "    'bayesianRidge': bayesianRidge['model'].coef_,\n",
    "})"
   ]
  },
  {
   "cell_type": "markdown",
   "metadata": {},
   "source": [
    "## Table 6.10"
   ]
  },
  {
   "cell_type": "code",
   "execution_count": 100,
   "metadata": {
    "execution": {
     "iopub.execute_input": "2023-04-26T18:40:04.833531Z",
     "iopub.status.busy": "2023-04-26T18:40:04.833007Z",
     "iopub.status.idle": "2023-04-26T18:40:04.864371Z",
     "shell.execute_reply": "2023-04-26T18:40:04.863594Z"
    },
    "scrolled": false
   },
   "outputs": [
    {
     "name": "stdout",
     "output_type": "stream",
     "text": [
      "                            OLS Regression Results                            \n",
      "==============================================================================\n",
      "Dep. Variable:                  Price   R-squared:                       0.872\n",
      "Model:                            OLS   Adj. R-squared:                  0.870\n",
      "Method:                 Least Squares   F-statistic:                     437.7\n",
      "Date:                Wed, 22 May 2024   Prob (F-statistic):          2.87e-306\n",
      "Time:                        21:19:01   Log-Likelihood:                -6127.9\n",
      "No. Observations:                 717   AIC:                         1.228e+04\n",
      "Df Residuals:                     705   BIC:                         1.233e+04\n",
      "Df Model:                          11                                         \n",
      "Covariance Type:            nonrobust                                         \n",
      "============================================================================================\n",
      "                               coef    std err          t      P>|t|      [0.025      0.975]\n",
      "--------------------------------------------------------------------------------------------\n",
      "Intercept                -7869.8892   1900.257     -4.141      0.000   -1.16e+04   -4139.049\n",
      "Fuel_Type_Diesel[T.True]  2820.3367    741.285      3.805      0.000    1364.947    4275.726\n",
      "Fuel_Type_Petrol[T.True]  3327.7118    515.559      6.455      0.000    2315.498    4339.926\n",
      "Age_08_04                 -119.7141      3.635    -32.935      0.000    -126.851    -112.578\n",
      "KM                          -0.0162      0.002     -9.012      0.000      -0.020      -0.013\n",
      "HP                          45.0425      8.311      5.420      0.000      28.726      61.359\n",
      "Met_Color                  105.3224    100.978      1.043      0.297     -92.931     303.576\n",
      "Automatic                  188.3363    204.268      0.922      0.357    -212.710     589.382\n",
      "CC                          -2.9201      0.772     -3.781      0.000      -4.437      -1.404\n",
      "Doors                      -53.5417     56.090     -0.955      0.340    -163.666      56.583\n",
      "Quarterly_Tax               14.8019      2.324      6.368      0.000      10.238      19.366\n",
      "Weight                      20.5234      1.775     11.561      0.000      17.038      24.009\n",
      "==============================================================================\n",
      "Omnibus:                       62.646   Durbin-Watson:                   1.971\n",
      "Prob(Omnibus):                  0.000   Jarque-Bera (JB):              340.525\n",
      "Skew:                           0.066   Prob(JB):                     1.14e-74\n",
      "Kurtosis:                       6.374   Cond. No.                     3.17e+06\n",
      "==============================================================================\n",
      "\n",
      "Notes:\n",
      "[1] Standard Errors assume that the covariance matrix of the errors is correctly specified.\n",
      "[2] The condition number is large, 3.17e+06. This might indicate that there are\n",
      "strong multicollinearity or other numerical problems.\n"
     ]
    }
   ],
   "source": [
    "*# run a linear regression of Price on the remaining 11 predictors in the training set\n",
    "train_df = train_X.join(train_y)\n",
    "\n",
    "predictors = train_X.columns\n",
    "formula = 'Price ~ ' + ' + '.join(predictors)\n",
    "\n",
    "car_lm = sm.ols(formula=formula, data=train_df).fit()\n",
    "print(car_lm.summary())"
   ]
  },
  {
   "cell_type": "markdown",
   "metadata": {},
   "source": [
    "# Solution for Toyota Analysis Questions\n",
    "\n",
    "# Activity:\n",
    "\n",
    "The file ToyotaCorolla.csv contains data on used cars (Toyota Corolla) on sale during late summer of 2004 in the Netherlands. It has 1436 records containing details on 38 attributes, including Price, Age, Kilometers, HP, and other specifications. The goal is to predict the price of a used Toyota Corolla based on its specifications.\n",
    "\n",
    "Split the data into training (50%), validation (30%), and test (20%) datasets.\n",
    "\n",
    "Run a multiple linear regression with the outcome variable Price and predictor variables Age_08_04, KM, Fuel_Type, HP, Automatic, Doors, Quarterly_Tax, Mfr_Guarantee, Guarantee_Period, Airco, Automatic_airco, CD_Player, Powered_Windows, Sport_Model, and Tow_Bar.\n",
    "\n",
    "# Methodology:\n",
    "* Instead of taking only the first 1,000 rows of data, remove the line above so all rows are factored in.\n",
    "* Leverage the split solution of train/test/validation from here: https://datascience.stackexchange.com/questions/15135/train-test-validation-set-splitting-in-sklearn \n",
    "\n",
    "Go to Table 6.3 to see my solution for this.\n",
    "\n",
    "__What appear to be the three or four most important car specifications for predicting the car’s price?__\n",
    "\n",
    "Based on the OLS Regression Results, and the p-value analysis, anything that has a p-value lower than 0.05 is statistically significant.\n",
    "This is assuming an alpha of 0.05.\n",
    "\n",
    "Basically, every feature EXCEPT Met_color, Automatic and Doors has a p-value higher than 0.05, everything else is a good indicator and is statistically significant.\n",
    "\n",
    "Ignoring Intercept, the following have high coefficients:\n",
    "* Fuel_Type_Diesel[T.True] \n",
    "* Fuel_Type_Petrol[T.True]\n",
    "* Met_Color \n",
    "* Automatic\n",
    "\n",
    "__Using metrics you consider useful, assess the performance of the model in predicting prices__"
   ]
  }
 ],
 "metadata": {
  "kernelspec": {
   "display_name": "Python 3 (ipykernel)",
   "language": "python",
   "name": "python3"
  },
  "language_info": {
   "codemirror_mode": {
    "name": "ipython",
    "version": 3
   },
   "file_extension": ".py",
   "mimetype": "text/x-python",
   "name": "python",
   "nbconvert_exporter": "python",
   "pygments_lexer": "ipython3",
   "version": "3.11.5"
  }
 },
 "nbformat": 4,
 "nbformat_minor": 2
}
